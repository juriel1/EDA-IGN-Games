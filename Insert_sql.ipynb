{
 "cells": [
  {
   "cell_type": "code",
   "execution_count": 1,
   "metadata": {},
   "outputs": [],
   "source": [
    "import psycopg2 as pg2\n",
    "import pandas as pd\n",
    "import numpy\n",
    "from psycopg2.extensions import register_adapter, AsIs\n",
    "def addapt_numpy_float64(numpy_float64):\n",
    "    return AsIs(numpy_float64)\n",
    "def addapt_numpy_int64(numpy_int64):\n",
    "    return AsIs(numpy_int64)\n",
    "register_adapter(numpy.float64, addapt_numpy_float64)\n",
    "register_adapter(numpy.int64, addapt_numpy_int64)"
   ]
  },
  {
   "cell_type": "markdown",
   "metadata": {},
   "source": [
    "### Import basics modules and psycopg2 extensions for adapt the data type\n",
    "#### Importar los modulos basicos y las extenciones de psycopg2 para adptar los tipos de datos"
   ]
  },
  {
   "cell_type": "code",
   "execution_count": null,
   "metadata": {},
   "outputs": [],
   "source": [
    "df = pd.read_csv(\"ign.csv\")\n",
    "df = df.rename(columns={'Unnamed: 0':'id'})\n",
    "df['date'] = df.apply(lambda row: str(row['release_year']) + \"-\" + str(row['release_month']) + \"-\" + str(row['release_day']), axis=1)\n",
    "df.info()"
   ]
  },
  {
   "cell_type": "markdown",
   "metadata": {},
   "source": [
    "### Read the csv, rename the column \"Unnamed: 0\" to \"id\" and the new date column was added \n",
    "#### Leer el csv, renombra la columna \"Unnamed: 0\" por \"id y agregar la nueva columna fecha"
   ]
  },
  {
   "cell_type": "code",
   "execution_count": null,
   "metadata": {},
   "outputs": [],
   "source": [
    "connect = pg2.connect(host=\"LocalHost\", user=\"postgres\", password=\"juriel1231\")\n",
    "cursor1=connect.cursor()\n",
    "cursor1.execute(\"CREATE DATABASE db_ign;\")\n",
    "connect.commit()\n",
    "cursor1.close()\n",
    "connect.close()"
   ]
  },
  {
   "cell_type": "markdown",
   "metadata": {},
   "source": [
    "### With connection on PostgreSQL create a database \"db_ign\"\n",
    "#### Con la conexion a PostgreSQL se crea la base de datos \"db_ign\""
   ]
  },
  {
   "cell_type": "code",
   "execution_count": 33,
   "metadata": {},
   "outputs": [],
   "source": [
    "connect = pg2.connect(host=\"LocalHost\", database = \"db_ign\", user=\"postgres\", password=\"juriel1231\")\n",
    "cursor1=connect.cursor()\n",
    "sql_create_table1 = \"\"\"CREATE TABLE data (\n",
    "                    id BIGINT PRIMARY KEY,\n",
    "                    score_phrase CHARACTER VARYING,\n",
    "                    title CHARACTER VARYING,\n",
    "                    url CHARACTER VARYING,\n",
    "                    plataform CHARACTER VARYING,\n",
    "                    score DOUBLE PRECISION,\n",
    "                    genre CHARACTER VARYING,\n",
    "                    editors_choice CHARACTER VARYING,\n",
    "                    release_year BIGINT,\n",
    "                    release_month BIGINT,\n",
    "                    release_day BIGINT,\n",
    "                    release_date DATE);\"\"\"\n",
    "cursor1.execute(sql_create_table1)\n",
    "sql_create_table2 = \"\"\"CREATE TABLE months (\n",
    "                    id BIGINT PRIMARY KEY,\n",
    "                    month_e CHARACTER VARYING,\n",
    "                    month_s CHARACTER VARYING);\"\"\"\n",
    "cursor1.execute(sql_create_table2)\n",
    "connect.commit()\n",
    "cursor1.close()\n",
    "connect.close()"
   ]
  },
  {
   "cell_type": "markdown",
   "metadata": {},
   "source": [
    "### Create table \"data\" with the followin columns: \n",
    "###### id INTEGER PRIMARY KEY, \n",
    "###### score_phrase CHARACTER ARYING, title CHARACTER ARYING, \n",
    "###### url CHARACTER ARYING, plataform CHARACTER ARYING, \n",
    "###### score DOUBLE PRECISION, genre CHARACTER ARYING, \n",
    "###### editors_choice CHARACTER ARYING, \n",
    "###### release_year INTEGER, release_month INTEGER, release_day INTEGER, release_date DATE\n",
    "\n",
    "#### Crear la tabla \"data\" con las siguientes columnas: \n",
    "###### id INTEGER PRIMARY KEY, \n",
    "###### score_phrase CHARACTER ARYING, title CHARACTER ARYING, \n",
    "###### url CHARACTER ARYING, plataform CHARACTER ARYING, \n",
    "###### score DOUBLE PRECISION, genre CHARACTER ARYING, \n",
    "###### editors_choice CHARACTER ARYING, \n",
    "###### release_year INTEGER, release_month INTEGER, release_day INTEGER, release_date DATE"
   ]
  },
  {
   "cell_type": "code",
   "execution_count": 5,
   "metadata": {},
   "outputs": [],
   "source": [
    "connect = pg2.connect(host=\"LocalHost\", database = \"db_ign\", user=\"postgres\", password=\"juriel1231\")\n",
    "cursor1=connect.cursor()\n",
    "for i in range(0,len(df)):\n",
    "    data = tuple(df.iloc[i])\n",
    "    sql_insert = \"INSERT INTO data (id, score_phrase, title, url, platform, score, genre, editors_choice, release_year, release_month, release_day, release_date) VALUES (%s,%s,%s,%s,%s,%s,%s,%s,%s,%s,%s,%s)\"\n",
    "    cursor1.execute(sql_insert, data)\n",
    "\n",
    "\n",
    "data_id = (1,2,3,4,5,6,7,8,9,10,11,12)\n",
    "data_month_e = (\"January\",\"February\",\"March\",\"April\",\"May\",\"June\",\"July\",\"August\",\"September\",\"October\",\"November\",\"December\",)\n",
    "data_month_s = (\"Enero\",\"Febrero\",\"Marzo\",\"Abril\",\"Mayo\",\"Junio\",\"Julio\",\"Agosto\",\"Septiembre\",\"Octubre\",\"Noviembre\",\"Diciembre\",)\n",
    "\n",
    "for i in range(0,12):\n",
    "    data_union = (data_id[i],data_month_e[i],data_month_s[i])\n",
    "    sql_insert_month = \"INSERT INTO data (id, month_e, month_s) VALUES (%s,%s,%s)\"\n",
    "    cursor1.execute(sql_insert_month, data)\n",
    "\n",
    "\n",
    "connect.commit()\n",
    "cursor1.close()\n",
    "connect.close()"
   ]
  },
  {
   "cell_type": "markdown",
   "metadata": {},
   "source": [
    "### Insert data from Dataframe to database\n",
    "#### Se insertan los datos del dataframe a la base de datos"
   ]
  }
 ],
 "metadata": {
  "kernelspec": {
   "display_name": "Python 3",
   "language": "python",
   "name": "python3"
  },
  "language_info": {
   "codemirror_mode": {
    "name": "ipython",
    "version": 3
   },
   "file_extension": ".py",
   "mimetype": "text/x-python",
   "name": "python",
   "nbconvert_exporter": "python",
   "pygments_lexer": "ipython3",
   "version": "3.11.7"
  }
 },
 "nbformat": 4,
 "nbformat_minor": 2
}
